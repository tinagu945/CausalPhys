{
 "cells": [
  {
   "cell_type": "code",
   "execution_count": 2,
   "metadata": {},
   "outputs": [
    {
     "name": "stdout",
     "output_type": "stream",
     "text": [
      "345600\n"
     ]
    }
   ],
   "source": [
    "import math\n",
    "import numpy as np\n",
    "mus=[0.001, 0.1, 3, 0.98, 1.5,10,5,0.56,7.8]\n",
    "thetas=[math.pi/90, math.pi/6,math.pi/4,math.pi/3,math.pi*44/45]\n",
    "g=9.8\n",
    "masses=[0.5, 1, 2, 5, 100, 7,200,134]\n",
    "x0s=[0.1, 5, 10, 70, 31.5,23]\n",
    "# y0s=[8, 0, 70,16,27]\n",
    "v0s=[0, 27, 86, 170, 10.3,80.5,47,0.9]\n",
    "shapes=[1,2,3,200,100]\n",
    "colors=[40,57,213,9]\n",
    "# time=np.linspace(0,36,19)\n",
    "print(len(mus)*len(thetas)*len(masses)*len(v0s)*len(x0s)*len(colors)*len(shapes))"
   ]
  },
  {
   "cell_type": "code",
   "execution_count": 12,
   "metadata": {},
   "outputs": [],
   "source": [
    "import itertools\n",
    "alls = [shapes,colors,mus,thetas,masses,v0s,x0s]\n",
    "data = np.array(list(itertools.product(*alls)))\n",
    "data_new = np.zeros((data.shape[0],data.shape[1]+2,data.shape[1]+3))\n",
    "data_new[:,:-2,0]=data\n",
    "for i in range(1,data.shape[1]+3):\n",
    "    data_new[:,i-1,i]=1\n",
    "data_new=np.expand_dims(data_new,2)"
   ]
  },
  {
   "cell_type": "code",
   "execution_count": 13,
   "metadata": {},
   "outputs": [
    {
     "name": "stdout",
     "output_type": "stream",
     "text": [
      "(345600, 9, 19, 10)\n"
     ]
    }
   ],
   "source": [
    "data_new=np.tile(data_new,(1,1,19,1))\n",
    "interval=2\n",
    "print(data_new.shape)\n",
    "for i in range(1,19):\n",
    "    mu = data_new[:,2,0,0]\n",
    "    theta=data_new[:,3,0,0] \n",
    "    \n",
    "    data_new[:,-4,i,0] = data_new[:,-4,i-1,0]+g*(np.sin(theta)-np.cos(theta)*mu)\n",
    "    data_new[:,-3,i,0]= data_new[:,-4,i-1,0]*interval+0.5*g*(np.sin(theta)-np.cos(theta)*mu)*(interval**2)\n",
    "\n",
    "data_new[:,-1,:,0] =  np.cos(data_new[:,3,:,0])  \n",
    "data_new[:,-2,:,0] =  np.sin(data_new[:,3,:,0])\n",
    "edge= np.zeros((9,9))"
   ]
  },
  {
   "cell_type": "code",
   "execution_count": 10,
   "metadata": {},
   "outputs": [
    {
     "data": {
      "text/plain": [
       "8192.0"
      ]
     },
     "execution_count": 10,
     "metadata": {},
     "output_type": "execute_result"
    }
   ],
   "source": [
    "# save_ds(data_new, 'vel_delta_noshuffle')\n",
    "16384/2"
   ]
  },
  {
   "cell_type": "code",
   "execution_count": null,
   "metadata": {},
   "outputs": [],
   "source": [
    "#test variance\n",
    "step=19\n",
    "u0=0\n",
    "v0=0\n",
    "g=9.8\n",
    "mus=[0.001,0.1, 0.5, 0.98,1.5]\n",
    "theta= thetas[4]\n",
    "interval=2\n",
    "\n",
    "L_vars=[]\n",
    "V_vars=[]\n",
    "for theta in thetas:\n",
    "    L=[]\n",
    "    V=[]\n",
    "    for mu in mus:\n",
    "        loc = np.zeros(step)\n",
    "        loc[0] = u0\n",
    "        vel = np.zeros(step)\n",
    "        vel[0] = v0\n",
    "        for i in range(1, step):\n",
    "            loc[i]=loc[i-1]+vel[i-1]*interval+0.5*g*(np.sin(theta)-np.cos(theta)*mu)*(interval**2)\n",
    "            vel[i] = vel[i-1]+g*(np.sin(theta)-np.cos(theta)*mu)\n",
    "        V.append(vel)\n",
    "        L.append(loc)\n",
    "    V=np.array(V)    \n",
    "    L=np.array(L)  \n",
    "    V_vars.append(V.var(0))\n",
    "    L_vars.append(L.var(0))\n",
    "\n",
    "np.array(V_vars).mean(0), np.array(L_vars).mean(0)"
   ]
  },
  {
   "cell_type": "code",
   "execution_count": 5,
   "metadata": {},
   "outputs": [
    {
     "name": "stdout",
     "output_type": "stream",
     "text": [
      "(100000, 5)\n"
     ]
    }
   ],
   "source": [
    "# Generate toy datasets\n",
    "import itertools\n",
    "import numpy as np\n",
    "\n",
    "dependents = 12\n",
    "steps = 19\n",
    "\n",
    "alls = np.random.uniform(low=0, high=10, size=(5,10))\n",
    "data = np.array(list(itertools.product(*alls)))\n",
    "print(data.shape)\n",
    "data_new_0 = np.zeros((data.shape[0],data.shape[1]+dependents,data.shape[1]+dependents+1))\n",
    "data_new_0[:,:-dependents,0]=data\n",
    "for i in range(1,data.shape[1]+dependents+1):\n",
    "    data_new_0[:,i-1,i]=1\n",
    "data_new_0=np.expand_dims(data_new_0,2)"
   ]
  },
  {
   "cell_type": "code",
   "execution_count": 6,
   "metadata": {},
   "outputs": [
    {
     "name": "stdout",
     "output_type": "stream",
     "text": [
      "(100000, 17, 19, 18)\n",
      "[0.         0.18410143 0.36820286 0.55230428 0.73640571 0.92050714\n",
      " 1.10460857 1.28870999 1.47281142 1.65691285 1.84101428 2.02511571\n",
      " 2.20921713 2.39331856 2.57741999 2.76152142 2.94562285 3.12972427\n",
      " 3.3138257 ]\n"
     ]
    }
   ],
   "source": [
    "data_new=np.tile(data_new_0,(1,1,steps,1))\n",
    "print(data_new.shape)\n",
    "for i in range(1,steps):\n",
    "    data_new[:,-10,i,0] = data_new[:,-10,i-1,0]+ data_new[:,3,i-1,0]**3/(data_new[:,0,i-1,0]**2)\n",
    "    data_new[:,-11,i,0] = data_new[:,-11,i-1,0]+ np.sqrt(data_new[:,3,i-1,0]**2+data_new[:,0,i-1,0]**2)\n",
    "    data_new[:,-12,i,0] = data_new[:,-12,i-1,0]+ np.sqrt(1+(data_new[:,3,i-1,0]/data_new[:,0,i-1,0])**2)\n",
    "    \n",
    "    data_new[:,-7,i,0] = data_new[:,-7,i-1,0]+ data_new[:,3,i-1,0]/data_new[:,4,i-1,0]\n",
    "    data_new[:,-8,i,0] = data_new[:,-8,i-1,0]+ np.sin(data_new[:,3,i-1,0]/data_new[:,4,i-1,0])\n",
    "    data_new[:,-9,i,0] = data_new[:,-9,i-1,0]+ np.sin(data_new[:,3,i-1,0]*data_new[:,4,i-1,0])**2\n",
    "    \n",
    "    data_new[:,-4,i,0] = data_new[:,-4,i-1,0]+ np.exp(data_new[:,2,i-1,0])\n",
    "    data_new[:,-5,i,0] = data_new[:,-5,i-1,0]+ np.log(data_new[:,2,i-1,0])\n",
    "    data_new[:,-6,i,0] = data_new[:,-6,i-1,0]+ 1/(data_new[:,1,i-1,0]**2)\n",
    "    \n",
    "    data_new[:,-3,i,0] = data_new[:,-3,i-1,0]+ np.sin(data_new[:,0,i-1,0])\n",
    "    data_new[:,-2,i,0] = data_new[:,-2,i-1,0]+ np.cos(data_new[:,0,i-1,0])\n",
    "    data_new[:,-1,i,0] = data_new[:,-1,i-1,0]+ 1/data_new[:,1,i-1,0]\n",
    "    \n",
    "print(data_new[208,-1,:,0])"
   ]
  },
  {
   "cell_type": "code",
   "execution_count": 10,
   "metadata": {},
   "outputs": [],
   "source": [
    "#SHO \n",
    "ks=np.random.uniform(low=0, high=10, size=7)\n",
    "masses=np.random.uniform(low=0, high=20, size=7)\n",
    "u0s=np.random.uniform(low=-5, high=5, size=7)\n",
    "v0s=np.random.uniform(low=-5, high=5, size=7)\n",
    "\n",
    "ass=np.random.uniform(low=0, high=10, size=7)\n",
    "bss = np.random.uniform(low=5, high=15, size=7)\n",
    "css = np.random.uniform(low=-5, high=5, size=7)\n",
    "dss = np.random.uniform(low=-3, high=8, size=7)\n",
    "\n",
    "alls=[ks,masses,v0s,u0s,ass,bss,css,dss]"
   ]
  },
  {
   "cell_type": "code",
   "execution_count": 16,
   "metadata": {},
   "outputs": [],
   "source": [
    "data_new= perm_tile(alls, ds_size, steps, interval, dependents)\n",
    "\n",
    "data_new[:,-2,:,0] =  data_new[:,0,:,0]/data_new[:,1,:,0]\n",
    "#omega\n",
    "data_new[:,-1,:,0] =  np.sqrt(data_new[:,-2,:,0])\n",
    "for i in range(1,steps):\n",
    "    omega = data_new[:,-1,0,0]\n",
    "\n",
    "    data_new[:,2,i,0] = -data_new[:,3,i-1,0]*omega*np.sin(omega*interval)+\\\n",
    "                        data_new[:,2,i-1,0]*np.cos(omega*interval)\n",
    "    \n",
    "    data_new[:,3,i,0]= data_new[:,3,i-1,0]*np.cos(omega*interval)+ \\\n",
    "                        data_new[:,2,i-1,0]*np.sin(omega*interval)/omega\n",
    "\n",
    "save_ds(data_new, 'vel_SHO')"
   ]
  },
  {
   "cell_type": "code",
   "execution_count": 5,
   "metadata": {},
   "outputs": [],
   "source": [
    "import itertools\n",
    "import numpy as np\n",
    "#Feymann gravity\n",
    "x1s=np.random.uniform(low=0, high=10, size=5)\n",
    "x2s=np.random.uniform(low=0, high=20, size=5)\n",
    "y1s=np.random.uniform(low=-5, high=5, size=5)\n",
    "y2s=np.random.uniform(low=-5, high=5, size=5)\n",
    "z1s = np.random.uniform(low=-5, high=5, size=5)\n",
    "z2s = np.random.uniform(low=-3, high=8, size=5)\n",
    "\n",
    "m1s=np.random.uniform(low=0, high=10, size=5)\n",
    "m2s = np.random.uniform(low=5, high=15, size=5)\n",
    "\n",
    "alls=[x1s,x2s,y1s,y2s,z1s,z2s,m1s,m2s]\n",
    "data_new= perm_tile(alls, 100000, 19, 2, 4)"
   ]
  },
  {
   "cell_type": "code",
   "execution_count": 8,
   "metadata": {},
   "outputs": [
    {
     "name": "stdout",
     "output_type": "stream",
     "text": [
      "(100000, 12, 12)\n",
      "[37194 26553 58383 38346 85881 52183 84270 85900 12548 77917]\n"
     ]
    }
   ],
   "source": [
    "data_new=np.tile(data_new,(1,1,steps,1))\n",
    "for i in range(1,steps):\n",
    "    m1 = data_new[:,6,0,0]\n",
    "    m2 = data_new[:,7,0,0]\n",
    "    \n",
    "    data_new[:,0,i,0] =  data_new[:,0,i-1,0]+0.01\n",
    "    data_new[:,2,i,0] =  data_new[:,2,i-1,0]*0.9\n",
    "\n",
    "    data_new[:,-4,i,0] = (data_new[:,0,i,0]-data_new[:,1,i,0])**2\n",
    "    data_new[:,-3,i,0] = (data_new[:,2,i,0]-data_new[:,3,i,0])**2\n",
    "    data_new[:,-2,i,0] = (data_new[:,4,i,0]-data_new[:,5,i,0])**2\n",
    "    \n",
    "    data_new[:,-1,i,0]= (m1*m2)/(data_new[:,-4,i,0]+data_new[:,-3,i,0]+data_new[:,-2,i,0])\n",
    "\n",
    "save_ds(data_new, 'vel_gravity')"
   ]
  },
  {
   "cell_type": "code",
   "execution_count": 145,
   "metadata": {},
   "outputs": [],
   "source": [
    "def save_ds_old(data_new, ind, shuffle=False):\n",
    "    edge=np.zeros((1, data_new.shape[1],data_new.shape[1]))\n",
    "#     edge=np.repeat(np.expand_dims(edge,0),data_new.shape[0],axis=0)\n",
    "    print(edge.shape)\n",
    "    arr=np.arange(data_new.shape[0])\n",
    "    if shuffle:\n",
    "        np.random.shuffle(arr)\n",
    "    print(arr[:10])\n",
    "    start_1 = int(data_new.shape[0]*0.75)\n",
    "    start_2 = int(data_new.shape[0]*0.85)\n",
    "    print(start_1, start_2-start_1, data_new.shape[0]-start_2)\n",
    "    np.save('./datasets/feat_train_causal_'+str(ind)+'.npy',data_new[arr[:start_1]])\n",
    "    np.save('./datasets/feat_valid_causal_'+str(ind)+'.npy',data_new[arr[:start_1]])\n",
    "    np.save('./datasets/feat_test_causal_'+str(ind)+'.npy',data_new[arr[start_1:start_2]])\n",
    "    np.save('./datasets/edges_train_causal_'+str(ind)+'.npy',edge[:start_1])\n",
    "    np.save('./datasets/edges_valid_causal_'+str(ind)+'.npy',edge[:start_1])\n",
    "    np.save('./datasets/edges_test_causal_'+str(ind)+'.npy',edge[start_1:start_2])"
   ]
  },
  {
   "cell_type": "code",
   "execution_count": 254,
   "metadata": {},
   "outputs": [
    {
     "name": "stdout",
     "output_type": "stream",
     "text": [
      "4096\n",
      "[2.59018206 2.894293   3.22677548 4.95112136]\n"
     ]
    }
   ],
   "source": [
    "import math\n",
    "import numpy as np\n",
    "import itertools\n",
    "np.random.seed(6)\n",
    "s=4\n",
    "mus=np.random.uniform(low=0,high=1,size=s)\n",
    "thetas=np.random.uniform(low=0,high=1.5,size=s)#,]\n",
    "g=9.8\n",
    "masses=np.random.uniform(low=0,high=20,size=s)\n",
    "# x0s=[8.0, 10.0, 23.0, 31.5]\n",
    "# y0s=[8, 0, 70,16,27]\n",
    "x0s=np.random.uniform(low=0,high=5,size=s)\n",
    "shapes=np.random.uniform(low=0,high=20,size=s)\n",
    "colors=np.random.uniform(low=0,high=20,size=s)\n",
    "# time=np.linspace(0,36,19)\n",
    "print(len(mus)*len(thetas)*len(masses)*len(x0s)*len(colors)*len(shapes))\n",
    "print(x0s)"
   ]
  },
  {
   "cell_type": "code",
   "execution_count": 64,
   "metadata": {},
   "outputs": [],
   "source": [
    "arr = np.arange(len(data_new)/6, dtype=int)\n",
    "np.random.shuffle(arr)\n",
    "valid=[]\n",
    "train=[]\n",
    "for i in range(len(arr)):\n",
    "    if i <1000:\n",
    "        valid.append(data_new[arr[i]*6:arr[i]*6+6])\n",
    "    else:\n",
    "        train.append(data_new[arr[i]*6:arr[i]*6+6])"
   ]
  },
  {
   "cell_type": "code",
   "execution_count": 247,
   "metadata": {},
   "outputs": [],
   "source": [
    "def perm_tile(alls, ds_size, steps, interval, dependents):\n",
    "    data = np.array(list(itertools.product(*alls)))\n",
    "    arr=np.arange(data.shape[0])\n",
    "#     np.random.shuffle(arr)\n",
    "#     data=data[arr[:ds_size]]\n",
    "    \n",
    "    data_new_0 = np.zeros((data.shape[0],data.shape[1]+dependents,data.shape[1]+dependents+1))\n",
    "    data_new_0[:,:-dependents,0]=data\n",
    "    for i in range(1,data.shape[1]+dependents+1):\n",
    "        data_new_0[:,i-1,i]=1\n",
    "    data_new_0=np.expand_dims(data_new_0,2)   \n",
    "    return data_new_0\n",
    "\n",
    "\n",
    "def generate_cube_dataset(alls, steps=19, interval=1, dependents=2):\n",
    "    data_new=perm_tile(alls, None, steps, interval, dependents)\n",
    "#     data_new[:,-3,0,0] =np.sin(data_new[:,3,0,0])\n",
    "#     data_new[:,-4,0,0] =np.cos(data_new[:,3,0,0])\n",
    "    data_new[:,-1,0,0] =data_new[:,-3,0,0] \n",
    "    data_new=np.tile(data_new,(1,1,19,1))\n",
    "    # print(data_new.shape, data_new[:,-2,i-1,0].shape)\n",
    "    # print((0.5*g*(np.sin(theta)-np.cos(theta)*mu)*(interval**2))[10])\n",
    "    mu = data_new[:,2,0,0]\n",
    "    theta=data_new[:,3,0,0] \n",
    "    for i in range(1,19):\n",
    "        data_new[:,-2,i,0] = data_new[:,-2,i-1,0]+g*(np.sin(theta)-np.cos(theta)*mu)*interval\n",
    "        \n",
    "#         for j in np.nonzero(data_new[:,-2,i,0]<0)[0]:\n",
    "#             data_new[j ,-2, i,0]=0\n",
    "            \n",
    "        print(np.nonzero(data_new[:,-2,i,0]<0)[0])\n",
    "        data_new[:,-1,i,0]= data_new[:,-1,i-1,0]+data_new[:,-2,i-1,0]*interval+0.5*g*(np.sin(theta)-np.cos(theta)*mu)*(interval**2)\n",
    "        \n",
    "#         for j in np.nonzero(data_new[:,-2,i,0]==0)[0]:\n",
    "#             data_new[j ,-1, i,0]=data_new[j,-1,i-1,0]\n",
    "    return data_new\n",
    "\n",
    "def save_ds(data_new, name):\n",
    "    np.save('./datasets/feat_'+name+'.npy',data_new)\n",
    "    edge=np.zeros((data_new.shape[1],data_new.shape[1]))\n",
    "    edge=np.repeat(np.expand_dims(edge,0),data_new.shape[0],axis=0)\n",
    "    np.save('./datasets/edges_'+name+'.npy',edge)\n",
    "\n",
    "#8.9: delta to no delta. 8.10: added interval to vel. 8.11: change interval from 2 to 1"
   ]
  },
  {
   "cell_type": "code",
   "execution_count": 212,
   "metadata": {},
   "outputs": [
    {
     "name": "stdout",
     "output_type": "stream",
     "text": [
      "4096\n",
      "[]\n",
      "[]\n",
      "[]\n",
      "[]\n",
      "[]\n",
      "[]\n",
      "[]\n",
      "[]\n",
      "[]\n",
      "[]\n",
      "[]\n",
      "[]\n",
      "[]\n",
      "[]\n",
      "[]\n",
      "[]\n",
      "[]\n",
      "[]\n"
     ]
    }
   ],
   "source": [
    "shapes=[5,7, 4, 8]\n",
    "colors=[2,4,6,8]\n",
    "mus=[0.18, 0.26, 0.48, 0.5]\n",
    "thetas=[np.pi/3.7, np.pi/4.5, np.pi/5.5, np.pi/2.7]\n",
    "masses=[2.7, 7, 3.6, 2.3]\n",
    "x0s=[14, 8, 12, 5.9]\n",
    "print(len(shapes)*len(colors)*len(mus)*len(thetas)*len(x0s)*len(masses))\n",
    "alls = [shapes,colors,mus,thetas,masses,x0s]\n",
    "data_new=generate_cube_dataset(alls, steps=19, interval=1, dependents=2)\n",
    "save_ds(data_new, 'valid_causal_vel_interpolation_+200mu')\n"
   ]
  },
  {
   "cell_type": "code",
   "execution_count": 255,
   "metadata": {},
   "outputs": [
    {
     "name": "stdout",
     "output_type": "stream",
     "text": [
      "4096\n",
      "[   0    1    2 ... 4029 4030 4031]\n",
      "[   0    1    2 ... 4029 4030 4031]\n",
      "[   0    1    2 ... 4029 4030 4031]\n",
      "[   0    1    2 ... 4029 4030 4031]\n",
      "[   0    1    2 ... 4029 4030 4031]\n",
      "[   0    1    2 ... 4029 4030 4031]\n",
      "[   0    1    2 ... 4029 4030 4031]\n",
      "[   0    1    2 ... 4029 4030 4031]\n",
      "[   0    1    2 ... 4029 4030 4031]\n",
      "[   0    1    2 ... 4029 4030 4031]\n",
      "[   0    1    2 ... 4029 4030 4031]\n",
      "[   0    1    2 ... 4029 4030 4031]\n",
      "[   0    1    2 ... 4029 4030 4031]\n",
      "[   0    1    2 ... 4029 4030 4031]\n",
      "[   0    1    2 ... 4029 4030 4031]\n",
      "[   0    1    2 ... 4029 4030 4031]\n",
      "[   0    1    2 ... 4029 4030 4031]\n",
      "[   0    1    2 ... 4029 4030 4031]\n"
     ]
    }
   ],
   "source": [
    "#Although the negative terms aren't realistic, we're just testing the function fitting ability,\n",
    "# not the realistic physics mechanics yet.\n",
    "#+- 20% of the training interval\n",
    "# shapes=[1,2,3,10]\n",
    "# colors=[1,3,5,7]\n",
    "# mus=[0.001, 0.6, 0.005, 0.65]\n",
    "# thetas=[np.pi/2.2, np.pi/2,np.pi/6.1, np.pi/6.3]\n",
    "# masses=[11, 1, 14, 0.5]\n",
    "# x0s=[0, 2, 23, 0.5]\n",
    "print(len(shapes)*len(colors)*len(mus)*len(thetas)*len(x0s)*len(masses))\n",
    "alls = [shapes,colors,mus,thetas,masses,x0s]\n",
    "data_new=generate_cube_dataset(alls, steps=19, interval=1, dependents=2)\n",
    "save_ds(data_new, 'valid_causal_vel_grouped_46656_x0s')"
   ]
  },
  {
   "cell_type": "code",
   "execution_count": 246,
   "metadata": {},
   "outputs": [
    {
     "data": {
      "text/plain": [
       "[array([ 4.70917883, 10.7073239 ,  0.29457038,  2.17460184, 18.44324165,\n",
       "        17.90109133]),\n",
       " array([13.30441365,  8.42228928,  6.44415723, 17.98794043,  6.47355783,\n",
       "         9.70892326]),\n",
       " array([0.03236728, 0.54240966, 0.80291961, 0.0551594 , 0.38226478,\n",
       "        0.21097059]),\n",
       " array([1.27852716, 0.17785698, 0.01892709, 0.17722707, 0.41143389,\n",
       "        1.34929179]),\n",
       " array([ 4.56263095, 19.78184679,  1.63512246,  6.01548942, 18.42830012,\n",
       "        19.74819664]),\n",
       " array([0.25598613, 0.51748619, 3.77955296, 1.74319052, 4.83106156,\n",
       "        3.31083472])]"
      ]
     },
     "execution_count": 246,
     "metadata": {},
     "output_type": "execute_result"
    }
   ],
   "source": [
    "alls"
   ]
  },
  {
   "cell_type": "code",
   "execution_count": 244,
   "metadata": {
    "scrolled": true
   },
   "outputs": [
    {
     "name": "stdout",
     "output_type": "stream",
     "text": [
      "[array([ 4.70917883, 10.7073239 ,  0.29457038,  2.17460184, 18.44324165,\n",
      "       17.90109133]), array([13.30441365,  8.42228928,  6.44415723, 17.98794043,  6.47355783,\n",
      "        9.70892326]), array([0.03236728, 0.54240966, 0.80291961, 0.0551594 , 0.38226478,\n",
      "       0.21097059]), array([1.27852716, 0.17785698, 0.01892709, 0.17722707, 0.41143389,\n",
      "       1.34929179]), array([ 4.56263095, 19.78184679,  1.63512246,  6.01548942, 18.42830012,\n",
      "       19.74819664]), array([0.25598613, 0.51748619, 3.77955296, 1.74319052, 4.83106156,\n",
      "       3.31083472])]\n"
     ]
    }
   ],
   "source": [
    "shapes=[1.0, 2.0, 3.0, 10.0]\n",
    "colors=[1,3,5,9]\n",
    "mus=[0.56, 0.3, 0.1, 0.28, 0.22,0.01, 0.4311111, 0.37, 0.15, 0.33, 0.4, 0.09, 0.24]\n",
    "thetas=[np.pi/3, np.pi/4, np.pi/6, np.pi/2.5, np.pi/5, np.pi/3.2, np.pi/5.7, np.pi/4.7, np.pi/3.8]\n",
    "masses=[10, 3.5, 5, 8,2]\n",
    "x0s=[3,5, 10,20,17]\n",
    "print(len(shapes)*len(colors)*len(mus)*len(thetas)*len(masses)*len(x0s))\n",
    "alls = [shapes,colors,mus,thetas,masses, x0s]\n",
    "data_new=generate_cube_dataset(alls, steps=19, interval=1, dependents=2)\n",
    "save_ds_old(data_new, 'vel_x0s_more', shuffle=True)\n"
   ]
  },
  {
   "cell_type": "code",
   "execution_count": 185,
   "metadata": {},
   "outputs": [
    {
     "data": {
      "text/plain": [
       "array([[1.00000000e+00, 1.00000000e+00, 1.00000000e+00, 1.00000000e+00,\n",
       "        1.00000000e+00, 1.00000000e+00, 1.00000000e+00, 1.00000000e+00,\n",
       "        1.00000000e+00, 1.00000000e+00, 1.00000000e+00, 1.00000000e+00,\n",
       "        1.00000000e+00, 1.00000000e+00, 1.00000000e+00, 1.00000000e+00,\n",
       "        1.00000000e+00, 1.00000000e+00, 1.00000000e+00],\n",
       "       [1.00000000e+00, 1.00000000e+00, 1.00000000e+00, 1.00000000e+00,\n",
       "        1.00000000e+00, 1.00000000e+00, 1.00000000e+00, 1.00000000e+00,\n",
       "        1.00000000e+00, 1.00000000e+00, 1.00000000e+00, 1.00000000e+00,\n",
       "        1.00000000e+00, 1.00000000e+00, 1.00000000e+00, 1.00000000e+00,\n",
       "        1.00000000e+00, 1.00000000e+00, 1.00000000e+00],\n",
       "       [2.20000000e-01, 2.20000000e-01, 2.20000000e-01, 2.20000000e-01,\n",
       "        2.20000000e-01, 2.20000000e-01, 2.20000000e-01, 2.20000000e-01,\n",
       "        2.20000000e-01, 2.20000000e-01, 2.20000000e-01, 2.20000000e-01,\n",
       "        2.20000000e-01, 2.20000000e-01, 2.20000000e-01, 2.20000000e-01,\n",
       "        2.20000000e-01, 2.20000000e-01, 2.20000000e-01],\n",
       "       [1.25663706e+00, 1.25663706e+00, 1.25663706e+00, 1.25663706e+00,\n",
       "        1.25663706e+00, 1.25663706e+00, 1.25663706e+00, 1.25663706e+00,\n",
       "        1.25663706e+00, 1.25663706e+00, 1.25663706e+00, 1.25663706e+00,\n",
       "        1.25663706e+00, 1.25663706e+00, 1.25663706e+00, 1.25663706e+00,\n",
       "        1.25663706e+00, 1.25663706e+00, 1.25663706e+00],\n",
       "       [2.00000000e+00, 2.00000000e+00, 2.00000000e+00, 2.00000000e+00,\n",
       "        2.00000000e+00, 2.00000000e+00, 2.00000000e+00, 2.00000000e+00,\n",
       "        2.00000000e+00, 2.00000000e+00, 2.00000000e+00, 2.00000000e+00,\n",
       "        2.00000000e+00, 2.00000000e+00, 2.00000000e+00, 2.00000000e+00,\n",
       "        2.00000000e+00, 2.00000000e+00, 2.00000000e+00],\n",
       "       [1.70000000e+01, 1.70000000e+01, 1.70000000e+01, 1.70000000e+01,\n",
       "        1.70000000e+01, 1.70000000e+01, 1.70000000e+01, 1.70000000e+01,\n",
       "        1.70000000e+01, 1.70000000e+01, 1.70000000e+01, 1.70000000e+01,\n",
       "        1.70000000e+01, 1.70000000e+01, 1.70000000e+01, 1.70000000e+01,\n",
       "        1.70000000e+01, 1.70000000e+01, 1.70000000e+01],\n",
       "       [0.00000000e+00, 8.65411322e+00, 1.73082264e+01, 2.59623397e+01,\n",
       "        3.46164529e+01, 4.32705661e+01, 5.19246793e+01, 6.05787925e+01,\n",
       "        6.92329058e+01, 7.78870190e+01, 8.65411322e+01, 9.51952454e+01,\n",
       "        1.03849359e+02, 1.12503472e+02, 1.21157585e+02, 1.29811698e+02,\n",
       "        1.38465812e+02, 1.47119925e+02, 1.55774038e+02],\n",
       "       [1.70000000e+01, 2.13270566e+01, 3.43082264e+01, 5.59435095e+01,\n",
       "        8.62329058e+01, 1.25176415e+02, 1.72774038e+02, 2.29025774e+02,\n",
       "        2.93931623e+02, 3.67491585e+02, 4.49705661e+02, 5.40573850e+02,\n",
       "        6.40096152e+02, 7.48272567e+02, 8.65103096e+02, 9.90587737e+02,\n",
       "        1.12472649e+03, 1.26751936e+03, 1.41896634e+03]])"
      ]
     },
     "execution_count": 185,
     "metadata": {},
     "output_type": "execute_result"
    }
   ],
   "source": [
    "data_new[1000,:,:,0]"
   ]
  },
  {
   "cell_type": "code",
   "execution_count": 240,
   "metadata": {},
   "outputs": [],
   "source": [
    "f=open('./test.txt', 'w')"
   ]
  },
  {
   "cell_type": "code",
   "execution_count": 241,
   "metadata": {},
   "outputs": [],
   "source": [
    "print('sss', file=f)\n",
    "f.flush()"
   ]
  },
  {
   "cell_type": "code",
   "execution_count": 242,
   "metadata": {},
   "outputs": [],
   "source": [
    "print('aaa', file=f)\n",
    "f.flush()"
   ]
  },
  {
   "cell_type": "code",
   "execution_count": null,
   "metadata": {},
   "outputs": [],
   "source": []
  }
 ],
 "metadata": {
  "kernelspec": {
   "display_name": "Python 3",
   "language": "python",
   "name": "python3"
  },
  "language_info": {
   "codemirror_mode": {
    "name": "ipython",
    "version": 3
   },
   "file_extension": ".py",
   "mimetype": "text/x-python",
   "name": "python",
   "nbconvert_exporter": "python",
   "pygments_lexer": "ipython3",
   "version": "3.7.6"
  }
 },
 "nbformat": 4,
 "nbformat_minor": 4
}
